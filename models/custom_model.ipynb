{
 "cells": [
  {
   "cell_type": "code",
   "execution_count": 13,
   "metadata": {},
   "outputs": [],
   "source": [
    "from keras import layers, datasets, models\n",
    "import matplotlib.pyplot as plt\n",
    "import numpy as np\n",
    "from tensorflow import keras"
   ]
  },
  {
   "cell_type": "code",
   "execution_count": null,
   "metadata": {},
   "outputs": [],
   "source": [
    "params = {\n",
    "    'train_ratio': 0.5,\n",
    "    'val_ratio' : 0.3,\n",
    "    'test_ratio' : 0.2,\n",
    "    'insert_trigger': 5, #epoch when we start training the model on the trigger set\n",
    "    'nb_targets':10,\n",
    "\n",
    "    'batch_size' : 32,\n",
    "    'nb_epochs': 10,\n",
    "    'learning_rate': 1e-3,\n",
    "    'type': 'convo',  # or 'dense'ArithmeticError\n",
    "    'kernel_size' : (3,3),\n",
    "    'activation' : 'relu',\n",
    "    'nb_layers': 2,\n",
    "    'add_pooling': True,\n",
    "    'pooling_size': (2,2),\n",
    "    'nb_units': [32,64],\n",
    "    'optimizer': keras.optimizers.Adam,\n",
    "    'loss' : 'sparse_categorical_crossentropy',\n",
    "    # 'metrics' : ['accuracy'],\n",
    "}"
   ]
  },
  {
   "cell_type": "code",
   "execution_count": null,
   "metadata": {},
   "outputs": [],
   "source": [
    "def verify_params(params):\n",
    "    #We check the constitency of the ratios\n",
    "    if params['train_ratio']+params['val_ratio']+params['test_ratio']!=1.:\n",
    "        print('Ratios are not consistent')\n",
    "\n",
    "    #We check the constitency of the number of layers\n",
    "    if params['nb_layers']!= len(params['nb_units']):\n",
    "        print('The number of layers is not consistent')\n",
    "\n",
    "\n",
    "    print('Parameters are consistent')"
   ]
  },
  {
   "cell_type": "code",
   "execution_count": null,
   "metadata": {},
   "outputs": [],
   "source": [
    "def process_data(data,trigger_set,params):\n",
    "    pass\n",
    "   # return X_train,y_train,X_val,y_val,X_test,y_test,X_trig,y_trig"
   ]
  },
  {
   "cell_type": "code",
   "execution_count": null,
   "metadata": {},
   "outputs": [],
   "source": [
    "def train(data,trigger_set,params):\n",
    "    X_train,y_train,X_val,y_val,X_test,y_test,X_trig,y_trig = process_data(data,trigger_set,params)\n",
    "    data_shape = X_train[0].shape\n",
    "\n",
    "    type = params['type']\n",
    "    nb_layers = params['nb_layers']\n",
    "    nb_units = params['nb_units']\n",
    "    activation=params['activation']\n",
    "    nb_targets = params['nb_targets']\n",
    "    kernel_size= params['kernel_size']\n",
    "    add_pooling = params['add_pooling']\n",
    "    pooling_size = params['pooling_size']\n",
    "    optimizer = params['optimizer']\n",
    "    learning_rate = params['learning_rate']\n",
    "    loss = params['loss']\n",
    "    batch_size = params['batch_size']\n",
    "    epochs = params['epochs']\n",
    "\n",
    "\n",
    "    if type=='dense':\n",
    "        model = keras.Sequential(\n",
    "            [layers.Flatten(input_shape = data_shape)]\n",
    "        )\n",
    "        for i in range(nb_layers):\n",
    "            model.add(layers.Dense(nb_units[i],activation=activation))\n",
    "        model.add(layers.Dense(nb_targets, activation = 'sigmoid'))\n",
    "    \n",
    "    elif type =='convo' :\n",
    "        model = keras.Sequential()\n",
    "        for i in range(nb_layers):\n",
    "            model.add(layers.Conv2D(filters=nb_units[i], kernel_size=kernel_size, activation=activation, input_shape = data_shape))\n",
    "            if add_pooling:\n",
    "                model.add(layers.MaxPooling2D(pooling_size))\n",
    "        model.add(layers.Dense(nb_units[-1],activation = 'softmax'))\n",
    "\n",
    "    opt = optimizer(learning_rate = learning_rate)\n",
    "    model.compile(optimizer = opt, loss = loss)\n",
    "    model.fit(X_train,y_train, validation_data = (X_val,y_val), batch_size = batch_size,epochs = epochs)\n",
    "    model.save('model_X', '/Users/thomasbouiniere/Desktop/CS/2A/Pole projet/watermarking/saved_models')\n",
    "    \n",
    "    print('Model succesfully saved')"
   ]
  }
 ],
 "metadata": {
  "kernelspec": {
   "display_name": "Python 3.8.3 ('base')",
   "language": "python",
   "name": "python3"
  },
  "language_info": {
   "codemirror_mode": {
    "name": "ipython",
    "version": 3
   },
   "file_extension": ".py",
   "mimetype": "text/x-python",
   "name": "python",
   "nbconvert_exporter": "python",
   "pygments_lexer": "ipython3",
   "version": "3.8.3"
  },
  "orig_nbformat": 4,
  "vscode": {
   "interpreter": {
    "hash": "40d3a090f54c6569ab1632332b64b2c03c39dcf918b08424e98f38b5ae0af88f"
   }
  }
 },
 "nbformat": 4,
 "nbformat_minor": 2
}
