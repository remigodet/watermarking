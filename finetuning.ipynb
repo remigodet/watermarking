{
 "cells": [
  {
   "cell_type": "code",
   "execution_count": 40,
   "metadata": {},
   "outputs": [],
   "source": [
    "import dataset\n",
    "import models.classifiers.classifier_thomas as classi\n",
    "import tensorflow as tf\n",
    "from keras import layers, datasets, models\n",
    "import matplotlib.pyplot as plt\n",
    "import numpy as np\n",
    "from tensorflow import keras\n",
    "\n"
   ]
  },
  {
   "cell_type": "code",
   "execution_count": 41,
   "metadata": {},
   "outputs": [],
   "source": [
    "X_test, y_test = dataset.get_dataset({\"n\":3000,\"set\": \"test\",\"dataset\":\"cifar-10\", \"seed\": 42  })"
   ]
  },
  {
   "cell_type": "code",
   "execution_count": 42,
   "metadata": {},
   "outputs": [],
   "source": [
    "hyperparams = {\n",
    "    \"train_ratio\": 0.5,\n",
    "    \"val_ration\": 0.3,\n",
    "    \"test_ration\": 0.2,\n",
    "    \"batch_size\": 32,\n",
    "    'nb_epochs': 10,\n",
    "    'learning_rate': 3*1e-3,\n",
    "    'archi': 'convo',  # or 'dense'\n",
    "    'kernel_size': (3, 3),\n",
    "    'activation': 'relu',\n",
    "    'nb_targets': 10,\n",
    "    'nb_layers': 2,\n",
    "    'add_pooling': True,\n",
    "    'pooling_size': (2, 2),\n",
    "    'nb_units': [32, 64],\n",
    "    'optimizer': keras.optimizers.Adam,\n",
    "    'loss': 'sparse_categorical_crossentropy',  # 'metrics' : ['accuracy'],\n",
    "}\n",
    "\n",
    "\n",
    "model_params = {\n",
    "    \"saved\":False,\n",
    "    \"to save\":False,\n",
    "    \"classifier\": \"classifier_thomas\",\n",
    "    \"hyperparams\": hyperparams,\n",
    "    \"wm\": None,\n",
    "}\n",
    "\n",
    "data_params= {\n",
    "    \"dataset\": \"cifar-10\",\n",
    "    \"set\": \"train\",\n",
    "    \"n\": 40000,\n",
    "    \"seed\":42 }\n"
   ]
  },
  {
   "cell_type": "code",
   "execution_count": 43,
   "metadata": {},
   "outputs": [
    {
     "name": "stdout",
     "output_type": "stream",
     "text": [
      "Model 1 calculated\n",
      "Epoch 1/10\n",
      "1250/1250 [==============================] - 17s 13ms/step - loss: 2.4934 - accuracy: 0.2201\n",
      "Epoch 2/10\n",
      "1250/1250 [==============================] - 18s 15ms/step - loss: 1.8438 - accuracy: 0.3208\n",
      "Epoch 3/10\n",
      "1250/1250 [==============================] - 18s 14ms/step - loss: 1.7226 - accuracy: 0.3774\n",
      "Epoch 4/10\n",
      "1250/1250 [==============================] - 17s 14ms/step - loss: 1.5904 - accuracy: 0.4305\n",
      "Epoch 5/10\n",
      "1250/1250 [==============================] - 17s 14ms/step - loss: 1.4648 - accuracy: 0.4815\n",
      "Epoch 6/10\n",
      "1250/1250 [==============================] - 18s 14ms/step - loss: 1.3435 - accuracy: 0.5257\n",
      "Epoch 7/10\n",
      "1250/1250 [==============================] - 17s 14ms/step - loss: 1.2578 - accuracy: 0.5619\n",
      "Epoch 8/10\n",
      "1250/1250 [==============================] - 19s 15ms/step - loss: 1.2004 - accuracy: 0.5839\n",
      "Epoch 9/10\n",
      "1250/1250 [==============================] - 18s 14ms/step - loss: 1.1228 - accuracy: 0.6158\n",
      "Epoch 10/10\n",
      "1250/1250 [==============================] - 16s 13ms/step - loss: 1.0465 - accuracy: 0.6459\n",
      "Model 2 calculated\n"
     ]
    }
   ],
   "source": [
    "# Création du model\n",
    "model1 = classi.get_model(model_params=model_params,\n",
    "                          data_params=data_params, model=None)\n",
    "print('Model 1 calculated')\n",
    "\n",
    "\n",
    "# Entrainement simple sans sauvegarde\n",
    "model2 = classi.get_model(model_params=model_params,\n",
    "                          data_params=data_params, model=model1)\n",
    "print('Model 2 calculated')"
   ]
  },
  {
   "cell_type": "code",
   "execution_count": 44,
   "metadata": {},
   "outputs": [
    {
     "name": "stdout",
     "output_type": "stream",
     "text": [
      "94/94 [==============================] - 1s 3ms/step - loss: 1.8864 - accuracy: 0.4580\n"
     ]
    },
    {
     "data": {
      "text/plain": [
       "[1.8864221572875977, 0.4580000042915344]"
      ]
     },
     "execution_count": 44,
     "metadata": {},
     "output_type": "execute_result"
    }
   ],
   "source": [
    "model2.evaluate(X_test, y_test)"
   ]
  }
 ],
 "metadata": {
  "kernelspec": {
   "display_name": "Python 3.8.3 ('base')",
   "language": "python",
   "name": "python3"
  },
  "language_info": {
   "codemirror_mode": {
    "name": "ipython",
    "version": 3
   },
   "file_extension": ".py",
   "mimetype": "text/x-python",
   "name": "python",
   "nbconvert_exporter": "python",
   "pygments_lexer": "ipython3",
   "version": "3.8.3"
  },
  "orig_nbformat": 4,
  "vscode": {
   "interpreter": {
    "hash": "40d3a090f54c6569ab1632332b64b2c03c39dcf918b08424e98f38b5ae0af88f"
   }
  }
 },
 "nbformat": 4,
 "nbformat_minor": 2
}
