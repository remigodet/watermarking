{
 "cells": [
  {
   "cell_type": "code",
   "execution_count": 102,
   "metadata": {},
   "outputs": [],
   "source": [
    "import dataset\n",
    "import models.classifiers.classifier_thomas as classi\n",
    "import tensorflow as tf\n",
    "from keras import layers, datasets, models\n",
    "import matplotlib.pyplot as plt\n",
    "import numpy as np\n",
    "from tensorflow import keras\n",
    "import main\n",
    "\n",
    "\n"
   ]
  },
  {
   "cell_type": "code",
   "execution_count": 103,
   "metadata": {},
   "outputs": [],
   "source": [
    "hyperparams = {\n",
    "    \"train_ratio\": 0.5,\n",
    "    \"val_ration\": 0.3,\n",
    "    \"test_ration\": 0.2,\n",
    "    \"batch_size\": 32,\n",
    "    'nb_epochs': 5,\n",
    "    'learning_rate': 3*1e-3,\n",
    "    'archi': 'boost',  # or 'dense'\n",
    "    'kernel_size': (3, 3),\n",
    "    'activation': 'relu',\n",
    "    'nb_targets': 10,\n",
    "    'nb_layers': 2,\n",
    "    'add_pooling': True,\n",
    "    'pooling_size': (2, 2),\n",
    "    'nb_units': [32, 64],\n",
    "    'optimizer': keras.optimizers.Adam,\n",
    "    'loss': 'sparse_categorical_crossentropy',  # 'metrics' : ['accuracy'],\n",
    "}\n",
    "\n",
    "data_params = {\n",
    "    \"dataset\": \"cifar-10\",\n",
    "    \"set\": \"train\",\n",
    "    \"n\": 40000,\n",
    "    \"seed\": 42\n",
    "}\n",
    "data_params_test = {\n",
    "    \"dataset\": \"cifar-10\",\n",
    "    \"set\": \"test\",\n",
    "    \"n\": 3000,\n",
    "    \"seed\": 42\n",
    "}\n",
    "\n",
    "\n",
    "model_params = {\n",
    "    \"saved\": None,\n",
    "    \"to save\": None,\n",
    "    \"classifier\": \"classifier_thomas\",\n",
    "    \"hyperparams\": hyperparams,\n",
    "    \"wm\": None,\n",
    "}\n",
    "\n",
    "\n",
    "model_params_visu = {\n",
    "    \"saved\": None,\n",
    "    \"to save\": None,\n",
    "    \"classifier\": \"classifier_thomas\",\n",
    "    \"hyperparams\": None,\n",
    "    \"wm\": None,\n",
    "}\n",
    "analysis_params = {\n",
    "    # \"processes\": [(\"train\", (model_params,data_params)),(\"wm\", (model_params2,trigger_params,data_params))],\n",
    "    #(\"train\", (model_params,data_params)),\n",
    "    # (\"wm\", (model_params_wm,None,data_params))\n",
    "    \"processes\": [\n",
    "        # (\"train\",(model_params_visu,data_params))\n",
    "        (\"train\", (model_params, data_params)),\n",
    "        # (\"wm\", (model_params_wm1,None,data_params))\n",
    "        # (\"train\", (model_params,None,data_params))\n",
    "    ],\n",
    "    \"analysis\": [(\"metrics\", (data_params_test, False)),\n",
    "                    (\"accuracy\", (data_params_test, False)),\n",
    "                    (\"precision\", (data_params_test, False)),\n",
    "                    (\"recall\", (data_params_test, False)),\n",
    "                    #(\"confusion_matrix\", (data_params_test, False)),\n",
    "                    #  (\"accuracy\", (data_params_test,trigger_params)),\n",
    "                    #(\"confusion_matrix\", (data_params_test, trigger_params)),\n",
    "                    #  (\"confusion_matrix\", (data_params_test, trigger_params2))\n",
    "                    ]\n",
    "}"
   ]
  },
  {
   "cell_type": "code",
   "execution_count": 104,
   "metadata": {},
   "outputs": [
    {
     "ename": "AttributeError",
     "evalue": "'NoneType' object has no attribute 'compile'",
     "output_type": "error",
     "traceback": [
      "\u001b[0;31m---------------------------------------------------------------------------\u001b[0m",
      "\u001b[0;31mAttributeError\u001b[0m                            Traceback (most recent call last)",
      "\u001b[0;32m<ipython-input-104-3501511a81da>\u001b[0m in \u001b[0;36m<module>\u001b[0;34m\u001b[0m\n\u001b[0;32m----> 1\u001b[0;31m main.main(model_params=model_params,\n\u001b[0m\u001b[1;32m      2\u001b[0m         \u001b[0mdata_params\u001b[0m\u001b[0;34m=\u001b[0m\u001b[0mdata_params\u001b[0m\u001b[0;34m,\u001b[0m\u001b[0;34m\u001b[0m\u001b[0;34m\u001b[0m\u001b[0m\n\u001b[1;32m      3\u001b[0m         analysis_params=analysis_params)\n",
      "\u001b[0;32m~/Desktop/CS/2A/Pole projet/watermarking/main.py\u001b[0m in \u001b[0;36mmain\u001b[0;34m(model_params, data_params, analysis_params)\u001b[0m\n\u001b[1;32m     41\u001b[0m     \u001b[0;31m# model_setup\u001b[0m\u001b[0;34m\u001b[0m\u001b[0;34m\u001b[0m\u001b[0;34m\u001b[0m\u001b[0m\n\u001b[1;32m     42\u001b[0m     \u001b[0mmodel\u001b[0m \u001b[0;34m=\u001b[0m \u001b[0;32mNone\u001b[0m\u001b[0;34m\u001b[0m\u001b[0;34m\u001b[0m\u001b[0m\n\u001b[0;32m---> 43\u001b[0;31m     \u001b[0;31m# model = model_setup(model_params, data_params, model)\u001b[0m\u001b[0;34m\u001b[0m\u001b[0;34m\u001b[0m\u001b[0;34m\u001b[0m\u001b[0m\n\u001b[0m\u001b[1;32m     44\u001b[0m     \u001b[0;31m# process\u001b[0m\u001b[0;34m\u001b[0m\u001b[0;34m\u001b[0m\u001b[0;34m\u001b[0m\u001b[0m\n\u001b[1;32m     45\u001b[0m     \u001b[0mmodel\u001b[0m \u001b[0;34m=\u001b[0m \u001b[0mprocess\u001b[0m\u001b[0;34m(\u001b[0m\u001b[0mmodel\u001b[0m\u001b[0;34m,\u001b[0m \u001b[0manalysis_params\u001b[0m\u001b[0;34m,\u001b[0m \u001b[0mdata_params\u001b[0m\u001b[0;34m)\u001b[0m\u001b[0;34m\u001b[0m\u001b[0;34m\u001b[0m\u001b[0m\n",
      "\u001b[0;32m~/Desktop/CS/2A/Pole projet/watermarking/main.py\u001b[0m in \u001b[0;36mmodel_setup\u001b[0;34m(model_params, data_params, model)\u001b[0m\n\u001b[1;32m     61\u001b[0m \u001b[0;31m#     # getting model\u001b[0m\u001b[0;34m\u001b[0m\u001b[0;34m\u001b[0m\u001b[0;34m\u001b[0m\u001b[0m\n\u001b[1;32m     62\u001b[0m \u001b[0;31m#     model = models[model_params[\"classifier\"]].get_model(model_params, data_params, model)\u001b[0m\u001b[0;34m\u001b[0m\u001b[0;34m\u001b[0m\u001b[0;34m\u001b[0m\u001b[0m\n\u001b[0;32m---> 63\u001b[0;31m \u001b[0;31m#     try: model is not None\u001b[0m\u001b[0;34m\u001b[0m\u001b[0;34m\u001b[0m\u001b[0;34m\u001b[0m\u001b[0m\n\u001b[0m\u001b[1;32m     64\u001b[0m \u001b[0;31m#     except: raise Exception(\"Model is None. Verify loading names and parameters.\")\u001b[0m\u001b[0;34m\u001b[0m\u001b[0;34m\u001b[0m\u001b[0;34m\u001b[0m\u001b[0m\n\u001b[1;32m     65\u001b[0m \u001b[0;34m\u001b[0m\u001b[0m\n",
      "\u001b[0;32m~/Desktop/CS/2A/Pole projet/watermarking/models/classifiers/classifier_thomas.py\u001b[0m in \u001b[0;36mget_model\u001b[0;34m(model_params, data_params, model)\u001b[0m\n\u001b[1;32m     66\u001b[0m                 \u001b[0mmodel\u001b[0m\u001b[0;34m.\u001b[0m\u001b[0madd\u001b[0m\u001b[0;34m(\u001b[0m\u001b[0mlayers\u001b[0m\u001b[0;34m.\u001b[0m\u001b[0mDense\u001b[0m\u001b[0;34m(\u001b[0m\u001b[0mnb_targets\u001b[0m\u001b[0;34m,\u001b[0m \u001b[0mactivation\u001b[0m\u001b[0;34m=\u001b[0m\u001b[0;34m'softmax'\u001b[0m\u001b[0;34m)\u001b[0m\u001b[0;34m)\u001b[0m\u001b[0;34m\u001b[0m\u001b[0;34m\u001b[0m\u001b[0m\n\u001b[1;32m     67\u001b[0m \u001b[0;34m\u001b[0m\u001b[0m\n\u001b[0;32m---> 68\u001b[0;31m             \u001b[0;32mif\u001b[0m \u001b[0marchi\u001b[0m \u001b[0;34m==\u001b[0m \u001b[0;34m'boost'\u001b[0m\u001b[0;34m:\u001b[0m\u001b[0;34m\u001b[0m\u001b[0;34m\u001b[0m\u001b[0m\n\u001b[0m\u001b[1;32m     69\u001b[0m                 \u001b[0mprint\u001b[0m\u001b[0;34m(\u001b[0m\u001b[0marchi\u001b[0m\u001b[0;34m)\u001b[0m\u001b[0;34m\u001b[0m\u001b[0;34m\u001b[0m\u001b[0m\n\u001b[1;32m     70\u001b[0m                 \u001b[0mmodel\u001b[0m \u001b[0;34m=\u001b[0m \u001b[0mkeras\u001b[0m\u001b[0;34m.\u001b[0m\u001b[0mSequential\u001b[0m\u001b[0;34m(\u001b[0m\u001b[0;34m)\u001b[0m\u001b[0;34m\u001b[0m\u001b[0;34m\u001b[0m\u001b[0m\n",
      "\u001b[0;31mAttributeError\u001b[0m: 'NoneType' object has no attribute 'compile'"
     ]
    }
   ],
   "source": [
    "main.main(model_params=model_params,\n",
    "        data_params=data_params,\n",
    "        analysis_params=analysis_params)"
   ]
  }
 ],
 "metadata": {
  "kernelspec": {
   "display_name": "Python 3.8.3 ('base')",
   "language": "python",
   "name": "python3"
  },
  "language_info": {
   "codemirror_mode": {
    "name": "ipython",
    "version": 3
   },
   "file_extension": ".py",
   "mimetype": "text/x-python",
   "name": "python",
   "nbconvert_exporter": "python",
   "pygments_lexer": "ipython3",
   "version": "3.8.3"
  },
  "orig_nbformat": 4,
  "vscode": {
   "interpreter": {
    "hash": "40d3a090f54c6569ab1632332b64b2c03c39dcf918b08424e98f38b5ae0af88f"
   }
  }
 },
 "nbformat": 4,
 "nbformat_minor": 2
}
